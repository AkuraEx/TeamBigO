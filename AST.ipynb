{
 "cells": [
  {
   "cell_type": "code",
   "execution_count": 128,
   "id": "693c50cb-5a13-4bb8-8258-f0340d2b30e0",
   "metadata": {},
   "outputs": [],
   "source": [
    "import ast\n",
    "from pprint import pprint"
   ]
  },
  {
   "cell_type": "code",
   "execution_count": 129,
   "id": "531b406b-2ad8-43a0-aff6-0929e0bcdcdb",
   "metadata": {},
   "outputs": [],
   "source": [
    "with open(\"test2.py\", \"r\") as source:\n",
    "    tree = ast.parse(source.read())"
   ]
  },
  {
   "cell_type": "code",
   "execution_count": 130,
   "id": "68fb5711-1bcb-4e16-8695-c7a659f44505",
   "metadata": {},
   "outputs": [
    {
     "name": "stdout",
     "output_type": "stream",
     "text": [
      "(\"Module(body=[FunctionDef(name='main', args=arguments(posonlyargs=[], \"\n",
      " 'args=[], kwonlyargs=[], kw_defaults=[], defaults=[]), '\n",
      " \"body=[Assign(targets=[Name(id='a', ctx=Store())], value=Constant(value=15)), \"\n",
      " \"Assign(targets=[Name(id='b', ctx=Store())], value=Constant(value=23)), \"\n",
      " \"Expr(value=Call(func=Name(id='print', ctx=Load()), \"\n",
      " \"args=[BinOp(left=Name(id='a', ctx=Load()), op=Add(), right=Name(id='b', \"\n",
      " \"ctx=Load()))], keywords=[])), For(target=Name(id='i', ctx=Store()), \"\n",
      " \"iter=Call(func=Name(id='range', ctx=Load()), args=[Constant(value=0), \"\n",
      " \"Name(id='a', ctx=Load()), Constant(value=2)], keywords=[]), \"\n",
      " \"body=[Expr(value=Call(func=Name(id='print', ctx=Load()), args=[Name(id='i', \"\n",
      " 'ctx=Load())], keywords=[]))], orelse=[])], decorator_list=[])], '\n",
      " 'type_ignores=[])')\n"
     ]
    }
   ],
   "source": [
    "pprint(ast.dump(tree))"
   ]
  },
  {
   "cell_type": "code",
   "execution_count": 131,
   "id": "9730783b-1f4c-4003-9479-3406209824b4",
   "metadata": {},
   "outputs": [],
   "source": [
    "class Visitor(ast.NodeVisitor):\n",
    "    def visit_Await(self, node):\n",
    "        print('Node type: Await\\nFields: ', node._fields)\n",
    "        self.generic_visit(node)\n",
    "\n",
    "    def visit_Call(self,node):\n",
    "        print('Node type: Call\\nFields: ', node._fields)\n",
    "        #print(\"func: \", node.func.id)\n",
    "        #print(\"args: \", end='')\n",
    "        #for x in node.args:\n",
    "        #    print(x.value, sep=' , ', end='')\n",
    "        #print()\n",
    "        #print(\"keywords: \", node.keywords)\n",
    "        ast.NodeVisitor.generic_visit(self, node)\n",
    "\n",
    "    def visit_Name(self,node):\n",
    "        print('Node type: Name\\nFields: ', node._fields)\n",
    "        #print(\"id: \", node.id)\n",
    "        #print(\"ctx: \", node.ctx)\n",
    "        ast.NodeVisitor.generic_visit(self, node)\n",
    "\n",
    "    def visit_Attribute(self,node):\n",
    "        print('Node type: Attr\\nFields: ', node._fields)\n",
    "        ast.NodeVisitor.generic_visit(self, node)\n",
    "\n",
    "    def visit_Module(self,node):\n",
    "        print('Node type: Module\\nFields: ', node._fields)\n",
    "        ast.NodeVisitor.generic_visit(self, node)\n",
    "\n",
    "    def visit_ClassDef(self,node):\n",
    "        print('Node type: ClassDef\\nFields: ', node._fields)\n",
    "        ast.NodeVisitor.generic_visit(self, node)\n",
    "    \n",
    "    def visit_Import(self,node):\n",
    "        print('Node type: Import\\nFields: ', node._fields)\n",
    "        ast.NodeVisitor.generic_visit(self, node)\n",
    "    \n",
    "    def visit_FunctionDef(self,node):\n",
    "        print('Node type: FunctionDef\\nFields: ', node._fields)\n",
    "        ast.NodeVisitor.generic_visit(self, node)\n",
    "    \n",
    "    def visit_Expr(self,node):\n",
    "        print('Node type: Expr\\nFields: ', node._fields)\n",
    "        ast.NodeVisitor.generic_visit(self, node)\n",
    "        \n",
    "    def visit_For(self,node):\n",
    "        print('Node type: For\\nFields: ', node._fields)\n",
    "        ast.NodeVisitor.generic_visit(self, node)\n",
    "    \n",
    "    \n",
    "    \n",
    "\n",
    "visitor = Visitor()"
   ]
  },
  {
   "cell_type": "code",
   "execution_count": 132,
   "id": "f0f165e2-00a7-432d-8fde-a084d49dafc7",
   "metadata": {
    "scrolled": true
   },
   "outputs": [
    {
     "name": "stdout",
     "output_type": "stream",
     "text": [
      "Node type: Module\n",
      "Fields:  ('body', 'type_ignores')\n",
      "Node type: FunctionDef\n",
      "Fields:  ('name', 'args', 'body', 'decorator_list', 'returns', 'type_comment')\n",
      "Node type: Name\n",
      "Fields:  ('id', 'ctx')\n",
      "Node type: Name\n",
      "Fields:  ('id', 'ctx')\n",
      "Node type: Expr\n",
      "Fields:  ('value',)\n",
      "Node type: Call\n",
      "Fields:  ('func', 'args', 'keywords')\n",
      "Node type: Name\n",
      "Fields:  ('id', 'ctx')\n",
      "Node type: Name\n",
      "Fields:  ('id', 'ctx')\n",
      "Node type: Name\n",
      "Fields:  ('id', 'ctx')\n",
      "Node type: For\n",
      "Fields:  ('target', 'iter', 'body', 'orelse', 'type_comment')\n",
      "Node type: Name\n",
      "Fields:  ('id', 'ctx')\n",
      "Node type: Call\n",
      "Fields:  ('func', 'args', 'keywords')\n",
      "Node type: Name\n",
      "Fields:  ('id', 'ctx')\n",
      "Node type: Name\n",
      "Fields:  ('id', 'ctx')\n",
      "Node type: Expr\n",
      "Fields:  ('value',)\n",
      "Node type: Call\n",
      "Fields:  ('func', 'args', 'keywords')\n",
      "Node type: Name\n",
      "Fields:  ('id', 'ctx')\n",
      "Node type: Name\n",
      "Fields:  ('id', 'ctx')\n"
     ]
    }
   ],
   "source": [
    "visitor.visit(tree)"
   ]
  },
  {
   "cell_type": "code",
   "execution_count": 138,
   "id": "0443e618-af38-43e5-b29c-728387b68c04",
   "metadata": {},
   "outputs": [
    {
     "data": {
      "text/plain": [
       "'a'"
      ]
     },
     "execution_count": 138,
     "metadata": {},
     "output_type": "execute_result"
    }
   ],
   "source": [
    "tree.body[0].body[3].iter.args[1].id"
   ]
  },
  {
   "cell_type": "code",
   "execution_count": null,
   "id": "c2233472-cc7b-4332-be0c-f25a5c58aa00",
   "metadata": {},
   "outputs": [],
   "source": []
  }
 ],
 "metadata": {
  "kernelspec": {
   "display_name": "Python 3 (ipykernel)",
   "language": "python",
   "name": "python3"
  },
  "language_info": {
   "codemirror_mode": {
    "name": "ipython",
    "version": 3
   },
   "file_extension": ".py",
   "mimetype": "text/x-python",
   "name": "python",
   "nbconvert_exporter": "python",
   "pygments_lexer": "ipython3",
   "version": "3.11.7"
  }
 },
 "nbformat": 4,
 "nbformat_minor": 5
}
